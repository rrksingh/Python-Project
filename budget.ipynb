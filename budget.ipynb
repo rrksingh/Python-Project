{
 "cells": [
  {
   "cell_type": "code",
   "execution_count": 1,
   "id": "0a74fd6e",
   "metadata": {},
   "outputs": [
    {
     "name": "stdout",
     "output_type": "stream",
     "text": [
      "Enter the initial balance for your budget: 10000\n",
      "\n",
      "Options:\n",
      "1. Deposit\n",
      "2. Withdraw\n",
      "3. Expense\n",
      "4. Check Balance\n",
      "5. View Expenses\n",
      "6. Quit\n",
      "Enter your choice (1-6): 1\n",
      "Enter the deposit amount: 500\n",
      "Deposited $500.0 into total budget. New balance: $10500.0\n",
      "\n",
      "Options:\n",
      "1. Deposit\n",
      "2. Withdraw\n",
      "3. Expense\n",
      "4. Check Balance\n",
      "5. View Expenses\n",
      "6. Quit\n",
      "Enter your choice (1-6): 2\n",
      "Enter the withdrawal amount: 1000\n"
     ]
    },
    {
     "name": "stderr",
     "output_type": "stream",
     "text": [
      "C:\\Users\\DELL\\AppData\\Local\\Temp\\ipykernel_4568\\950410582.py:38: FutureWarning: The frame.append method is deprecated and will be removed from pandas in a future version. Use pandas.concat instead.\n",
      "  self.expenses = self.expenses.append({'Description': description, 'Amount': amount}, ignore_index=True)\n"
     ]
    },
    {
     "name": "stdout",
     "output_type": "stream",
     "text": [
      "Withdrew $1000.0 from total budget. New balance: $9500.0\n",
      "\n",
      "Options:\n",
      "1. Deposit\n",
      "2. Withdraw\n",
      "3. Expense\n",
      "4. Check Balance\n",
      "5. View Expenses\n",
      "6. Quit\n",
      "Enter your choice (1-6): 3\n",
      "Enter the expense amount: 1000\n",
      "Enter a description for the expense: shopping\n"
     ]
    },
    {
     "name": "stderr",
     "output_type": "stream",
     "text": [
      "C:\\Users\\DELL\\AppData\\Local\\Temp\\ipykernel_4568\\950410582.py:38: FutureWarning: The frame.append method is deprecated and will be removed from pandas in a future version. Use pandas.concat instead.\n",
      "  self.expenses = self.expenses.append({'Description': description, 'Amount': amount}, ignore_index=True)\n"
     ]
    },
    {
     "name": "stdout",
     "output_type": "stream",
     "text": [
      "Expensed $1000.0 for shopping from total budget. New balance: $8500.0\n",
      "\n",
      "Options:\n",
      "1. Deposit\n",
      "2. Withdraw\n",
      "3. Expense\n",
      "4. Check Balance\n",
      "5. View Expenses\n",
      "6. Quit\n",
      "Enter your choice (1-6): 3\n",
      "Enter the expense amount: 2000\n",
      "Enter a description for the expense: food\n"
     ]
    },
    {
     "name": "stderr",
     "output_type": "stream",
     "text": [
      "C:\\Users\\DELL\\AppData\\Local\\Temp\\ipykernel_4568\\950410582.py:38: FutureWarning: The frame.append method is deprecated and will be removed from pandas in a future version. Use pandas.concat instead.\n",
      "  self.expenses = self.expenses.append({'Description': description, 'Amount': amount}, ignore_index=True)\n"
     ]
    },
    {
     "name": "stdout",
     "output_type": "stream",
     "text": [
      "Expensed $2000.0 for food from total budget. New balance: $6500.0\n",
      "\n",
      "Options:\n",
      "1. Deposit\n",
      "2. Withdraw\n",
      "3. Expense\n",
      "4. Check Balance\n",
      "5. View Expenses\n",
      "6. Quit\n",
      "Enter your choice (1-6): 3\n",
      "Enter the expense amount: 3000\n",
      "Enter a description for the expense: rent\n"
     ]
    },
    {
     "name": "stderr",
     "output_type": "stream",
     "text": [
      "C:\\Users\\DELL\\AppData\\Local\\Temp\\ipykernel_4568\\950410582.py:38: FutureWarning: The frame.append method is deprecated and will be removed from pandas in a future version. Use pandas.concat instead.\n",
      "  self.expenses = self.expenses.append({'Description': description, 'Amount': amount}, ignore_index=True)\n"
     ]
    },
    {
     "name": "stdout",
     "output_type": "stream",
     "text": [
      "Expensed $3000.0 for rent from total budget. New balance: $3500.0\n",
      "\n",
      "Options:\n",
      "1. Deposit\n",
      "2. Withdraw\n",
      "3. Expense\n",
      "4. Check Balance\n",
      "5. View Expenses\n",
      "6. Quit\n",
      "Enter your choice (1-6): 4\n",
      "The current balance in total budget is $3500.0\n",
      "\n",
      "Options:\n",
      "1. Deposit\n",
      "2. Withdraw\n",
      "3. Expense\n",
      "4. Check Balance\n",
      "5. View Expenses\n",
      "6. Quit\n",
      "Enter your choice (1-6): 5\n",
      "Expenses in total budget:\n",
      "Description  Amount\n",
      " Withdrawal  1000.0\n",
      "   shopping  1000.0\n",
      "       food  2000.0\n",
      "       rent  3000.0\n",
      "\n",
      "Options:\n",
      "1. Deposit\n",
      "2. Withdraw\n",
      "3. Expense\n",
      "4. Check Balance\n",
      "5. View Expenses\n",
      "6. Quit\n",
      "Enter your choice (1-6): 6\n",
      "Exiting the budget management system. Goodbye!\n"
     ]
    }
   ],
   "source": [
    "import pandas as pd\n",
    "import numpy as np\n",
    "\n",
    "class Budget:\n",
    "    def __init__(self, category, balance=0):\n",
    "        self.category = category\n",
    "        self.balance = balance\n",
    "        self.expenses = pd.DataFrame(columns=['Description', 'Amount'])\n",
    "\n",
    "    def deposit(self, amount):\n",
    "        if amount > 0:\n",
    "            self.balance += amount\n",
    "            return f\"Deposited ${amount} into {self.category} budget. New balance: ${self.balance}\"\n",
    "        else:\n",
    "            return \"Invalid deposit amount. Please enter a positive value.\"\n",
    "\n",
    "    def withdraw(self, amount):\n",
    "        if amount > 0 and amount <= self.balance:\n",
    "            self.balance -= amount\n",
    "            self.record_expense(\"Withdrawal\", amount)\n",
    "            return f\"Withdrew ${amount} from {self.category} budget. New balance: ${self.balance}\"\n",
    "        elif amount <= 0:\n",
    "            return \"Invalid withdrawal amount. Please enter a positive value.\"\n",
    "        else:\n",
    "            return \"Insufficient funds for withdrawal.\"\n",
    "\n",
    "    def expense(self, amount, description):\n",
    "        if amount > 0 and amount <= self.balance:\n",
    "            self.balance -= amount\n",
    "            self.record_expense(description, amount)\n",
    "            return f\"Expensed ${amount} for {description} from {self.category} budget. New balance: ${self.balance}\"\n",
    "        elif amount <= 0:\n",
    "            return \"Invalid expense amount. Please enter a positive value.\"\n",
    "        else:\n",
    "            return \"Insufficient funds for the expense.\"\n",
    "\n",
    "    def record_expense(self, description, amount):\n",
    "        self.expenses = self.expenses.append({'Description': description, 'Amount': amount}, ignore_index=True)\n",
    "\n",
    "    def check_balance(self):\n",
    "        return f\"The current balance in {self.category} budget is ${self.balance}\"\n",
    "\n",
    "    def view_expenses(self):\n",
    "        if not self.expenses.empty:\n",
    "            return f\"Expenses in {self.category} budget:\\n{self.expenses.to_string(index=False)}\"\n",
    "        else:\n",
    "            return f\"No expenses recorded in {self.category} budget.\"\n",
    "\n",
    "\n",
    "# Get initial balance from the user\n",
    "initial_balance = float(input(\"Enter the initial balance for your budget: \"))\n",
    "total_budget = Budget(\"total\", initial_balance)\n",
    "\n",
    "while True:\n",
    "    print(\"\\nOptions:\")\n",
    "    print(\"1. Deposit\")\n",
    "    print(\"2. Withdraw\")\n",
    "    print(\"3. Expense\")\n",
    "    print(\"4. Check Balance\")\n",
    "    print(\"5. View Expenses\")\n",
    "    print(\"6. Quit\")\n",
    "\n",
    "    choice = input(\"Enter your choice (1-6): \")\n",
    "\n",
    "    if choice == '1':\n",
    "        deposit_amount = float(input(\"Enter the deposit amount: \"))\n",
    "        print(total_budget.deposit(deposit_amount))\n",
    "\n",
    "    elif choice == '2':\n",
    "        withdraw_amount = float(input(\"Enter the withdrawal amount: \"))\n",
    "        print(total_budget.withdraw(withdraw_amount))\n",
    "\n",
    "    elif choice == '3':\n",
    "        expense_amount = float(input(\"Enter the expense amount: \"))\n",
    "        expense_description = input(\"Enter a description for the expense: \")\n",
    "        print(total_budget.expense(expense_amount, expense_description))\n",
    "\n",
    "    elif choice == '4':\n",
    "        print(total_budget.check_balance())\n",
    "\n",
    "    elif choice == '5':\n",
    "        print(total_budget.view_expenses())\n",
    "\n",
    "    elif choice == '6':\n",
    "        print(\"Exiting the budget management system. Goodbye!\")\n",
    "        break\n",
    "\n",
    "    else:\n",
    "        print(\"Invalid choice. Please enter a number between 1 and 6.\")\n"
   ]
  },
  {
   "cell_type": "code",
   "execution_count": null,
   "id": "8be0da0a",
   "metadata": {},
   "outputs": [],
   "source": []
  }
 ],
 "metadata": {
  "kernelspec": {
   "display_name": "Python 3 (ipykernel)",
   "language": "python",
   "name": "python3"
  },
  "language_info": {
   "codemirror_mode": {
    "name": "ipython",
    "version": 3
   },
   "file_extension": ".py",
   "mimetype": "text/x-python",
   "name": "python",
   "nbconvert_exporter": "python",
   "pygments_lexer": "ipython3",
   "version": "3.11.3"
  }
 },
 "nbformat": 4,
 "nbformat_minor": 5
}
